{
 "cells": [
  {
   "cell_type": "code",
   "execution_count": 1,
   "metadata": {
    "collapsed": false
   },
   "outputs": [
    {
     "data": {
      "text/latex": [
       "$$\\left(\\begin{array}{ccc}\n",
       "  0&1&2\\\\\n",
       "  3&4&5\\\\\n",
       "\\end{array}\\right)$$"
      ],
      "text/plain": [
       "#<NMatrix:0x007f5756f2fcd8 shape:[2,3] dtype:int64 stype:dense>"
      ]
     },
     "execution_count": 1,
     "metadata": {},
     "output_type": "execute_result"
    }
   ],
   "source": [
    "require 'nmatrix'\n",
    "NMatrix.new([2, 3], [0, 1, 2, 3, 4, 5], dtype: :int64)"
   ]
  },
  {
   "cell_type": "code",
   "execution_count": null,
   "metadata": {
    "collapsed": true
   },
   "outputs": [],
   "source": []
  }
 ],
 "metadata": {
  "kernelspec": {
   "display_name": "Ruby",
   "language": "ruby",
   "name": "ruby"
  },
  "language_info": {
   "file_extension": "rb",
   "mimetype": "text/ruby",
   "name": "ruby",
   "version": "2.2.2"
  }
 },
 "nbformat": 4,
 "nbformat_minor": 0
}
